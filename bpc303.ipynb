{
 "cells": [
  {
   "cell_type": "code",
   "execution_count": 1,
   "metadata": {},
   "outputs": [],
   "source": [
    "#import PyDAQmx as nidaq"
   ]
  },
  {
   "cell_type": "code",
   "execution_count": 1,
   "metadata": {},
   "outputs": [],
   "source": [
    "from numpy import *\n",
    "import time\n",
    "#import matplotlib.pylab as plt"
   ]
  },
  {
   "cell_type": "code",
   "execution_count": 2,
   "metadata": {},
   "outputs": [],
   "source": [
    "#t = nidaq.Task()\n",
    "#t.CreateAIVoltageChan(\"Dev2/ai0\", None, nidaq.DAQmx_Val_Diff, 0, 10, nidaq.DAQmx_Val_Volts, None)"
   ]
  },
  {
   "cell_type": "code",
   "execution_count": 3,
   "metadata": {},
   "outputs": [],
   "source": [
    "#t.CfgSampClkTiming(\"\", 1000, nidaq.DAQmx_Val_Rising, nidaq.DAQmx_Val_FiniteSamps, 5000)\n",
    "#t.StartTask()"
   ]
  },
  {
   "cell_type": "code",
   "execution_count": 5,
   "metadata": {},
   "outputs": [],
   "source": [
    "#data = np.zeros((5000,), dtype=np.float64)\n",
    "#read = nidaq.int32()\n",
    "#t.ReadAnalogF64(5000, 5, nidaq.DAQmx_Val_GroupByChannel,\n",
    "#   data, len(data), nidaq.byref(read), None)"
   ]
  },
  {
   "cell_type": "code",
   "execution_count": 3,
   "metadata": {},
   "outputs": [],
   "source": [
    "#https://scipy-cookbook.readthedocs.io/items/Data_Acquisition_with_NIDAQmx.html\n",
    "#!python numbers=disable\n",
    "\"\"\"\n",
    "This is an interpretation of the example program\n",
    "C:\\Program Files\\National Instruments\\NI-DAQ\\Examples\\DAQmx ANSI C\\Analog Out\\Generate Voltage\\Cont Gen Volt Wfm-Int Clk\\ContGen-IntClk.c\n",
    "This routine will play an arbitrary-length waveform file.\n",
    "This module depends on:\n",
    "numpy\n",
    "Adapted by Martin Bures [ mbures { @ } zoll { . } com ]\n",
    "\"\"\"\n",
    "# import system libraries\n",
    "import ctypes\n",
    "import numpy\n",
    "import threading\n",
    "# load any DLLs\n",
    "nidaq = ctypes.windll.nicaiu # load the DLL\n",
    "##############################\n",
    "# Setup some typedefs and constants\n",
    "# to correspond with values in\n",
    "# C:\\Program Files\\National Instruments\\NI-DAQ\\DAQmx ANSI C Dev\\include\\NIDAQmx.h\n",
    "# the typedefs\n",
    "int32 = ctypes.c_long\n",
    "uInt32 = ctypes.c_ulong\n",
    "uInt64 = ctypes.c_ulonglong\n",
    "float64 = ctypes.c_double\n",
    "TaskHandle = uInt32\n",
    "# the constants\n",
    "DAQmx_Val_Cfg_Default = int32(-1)\n",
    "DAQmx_Val_Volts = 10348\n",
    "DAQmx_Val_Rising = 10280\n",
    "DAQmx_Val_FiniteSamps = 10178\n",
    "DAQmx_Val_ContSamps = 10123\n",
    "DAQmx_Val_GroupByChannel = 0\n",
    "\n",
    "##############################\n",
    "class WaveformThread( threading.Thread ):\n",
    "    \"\"\"\n",
    "    This class performs the necessary initialization of the DAQ hardware and\n",
    "    spawns a thread to handle playback of the signal.\n",
    "    It takes as input arguments the waveform to play and the sample rate at which\n",
    "    to play it.\n",
    "    This will play an arbitrary-length waveform file.\n",
    "    \"\"\"\n",
    "    def __init__( self, waveform, sampleRate, device_name):\n",
    "        #self.device_name = \"Dev2/ao0\"\n",
    "        self.running = True\n",
    "        self.sampleRate = sampleRate\n",
    "        #self.device_name = device_name\n",
    "        self.periodLength = len( waveform )\n",
    "        self.taskHandle = TaskHandle( 0 )\n",
    "        self.data = numpy.zeros( ( self.periodLength, ), dtype=numpy.float64 )\n",
    "        # convert waveform to a numpy array\n",
    "        for i in range( self.periodLength ):\n",
    "            self.data[ i ] = waveform[ i ]\n",
    "        # setup the DAQ hardware\n",
    "        self.CHK(nidaq.DAQmxCreateTask(\"\",\n",
    "                          ctypes.byref( self.taskHandle )))\n",
    "        self.CHK(nidaq.DAQmxCreateAOVoltageChan( self.taskHandle,\n",
    "                                   device_name,\n",
    "                                   \"\",\n",
    "                                   float64(-10.0),\n",
    "                                   float64(10.0),\n",
    "                                   DAQmx_Val_Volts,\n",
    "                                   None))\n",
    "        self.CHK(nidaq.DAQmxCfgSampClkTiming( self.taskHandle,\n",
    "                                \"\",\n",
    "                                float64(self.sampleRate),\n",
    "                                DAQmx_Val_Rising,\n",
    "                                DAQmx_Val_FiniteSamps,\n",
    "                                uInt64(self.periodLength)));\n",
    "        self.CHK(nidaq.DAQmxWriteAnalogF64( self.taskHandle,\n",
    "                              int32(self.periodLength),\n",
    "                              0,\n",
    "                              float64(-1),\n",
    "                              DAQmx_Val_GroupByChannel,\n",
    "                              self.data.ctypes.data,\n",
    "                              None,\n",
    "                              None))\n",
    "        threading.Thread.__init__( self )\n",
    "    def CHK( self, err ):\n",
    "        \"\"\"a simple error checking routine\"\"\"\n",
    "        if err < 0:\n",
    "            buf_size = 100\n",
    "            buf = ctypes.create_string_buffer('\\000' * buf_size)\n",
    "            nidaq.DAQmxGetErrorString(err,ctypes.byref(buf),buf_size)\n",
    "            raise RuntimeError('nidaq call failed with error %d: %s'%(err,repr(buf.value)))\n",
    "        if err > 0:\n",
    "            buf_size = 100\n",
    "            buf = ctypes.create_string_buffer('\\000' * buf_size)\n",
    "            nidaq.DAQmxGetErrorString(err,ctypes.byref(buf),buf_size)\n",
    "            raise RuntimeError('nidaq generated warning %d: %s'%(err,repr(buf.value)))\n",
    "    def run( self ):\n",
    "        counter = 0\n",
    "        self.CHK(nidaq.DAQmxStartTask( self.taskHandle ))\n",
    "    def stop( self ):\n",
    "        self.running = False\n",
    "        nidaq.DAQmxStopTask( self.taskHandle )\n",
    "        nidaq.DAQmxClearTask( self.taskHandle )"
   ]
  },
  {
   "cell_type": "code",
   "execution_count": 4,
   "metadata": {},
   "outputs": [],
   "source": [
    "from numpy import *\n",
    "import pylab as plt"
   ]
  },
  {
   "cell_type": "code",
   "execution_count": 11,
   "metadata": {},
   "outputs": [],
   "source": [
    "f_sampling = 250\n",
    "\"Here I tried to generate funtions in two different channels.\"\n",
    "if __name__ == '__main__':\n",
    "    import time\n",
    "    # generate a time signal 5 seconds long with 250Hz sample rate\n",
    "    t = numpy.arange( 0, 5, 1.0/f_sampling )\n",
    "    # generate sine wave\n",
    "    x = sin( t )\n",
    "    y = cos( t )\n",
    "    #plt.plot(t,x)\n",
    "    mythread = WaveformThread( x, f_sampling, \"Dev2/ao0\")\n",
    "   \n",
    "    # start playing waveform\n",
    "    mythread.start()\n",
    "   \n",
    "    # wait 5 seconds then stop\n",
    "    time.sleep( 5 )\n",
    "    mythread.stop()\n",
    "    #mythread2 = WaveformThread( y, 250, \"Dev2/ao1\" )\n",
    "    #mythread2.start()\n",
    "    #time.sleep( 5 )\n",
    "    \n",
    "    #mythread2.stop()"
   ]
  },
  {
   "cell_type": "code",
   "execution_count": 16,
   "metadata": {},
   "outputs": [],
   "source": [
    "'''Basic funtions to play with shutter and move Piezo controller in X and Y directions.'''\n",
    "def shutter_on():\n",
    "    t_shutter = numpy.arange( 0, 2, 1 )\n",
    "    y = 10*t_shutter\n",
    "    mythread = WaveformThread( y, 250, \"Dev2/ao2\")\n",
    "    mythread.start()\n",
    "    time.sleep( 1 )\n",
    "    mythread.stop()\n",
    "def shutter_off():\n",
    "    t_shutter = numpy.arange( 0, 2, 1 )\n",
    "    y = 0*t_shutter\n",
    "    mythread = WaveformThread( y, 250, \"Dev2/ao2\")\n",
    "    mythread.start()\n",
    "    time.sleep( 1 )\n",
    "    mythread.stop()\n",
    "\n",
    "\n",
    "x_max = 16.6  # Piezo maximum travel in x direction (micron)\n",
    "v_max = 10.0    # Voltale at DAQmx output to drive maximum travel in x direction\n",
    "m_ = v_max/x_max # Required output voltage for 1 micron move\n",
    "f_sampling = 250\n",
    "def moveX(d_0, d_,v_): \n",
    "    t0_ = abs((d_-d_0)/v_)  # Calculate time for assigned length and speed\n",
    "    t_ = numpy.arange( 0, t0_, 1.0/f_sampling )\n",
    "    v = m_*d_0 + ((m_*d_-m_*d_0)/t0_)*t_  # Output voltage of DAQmx    \n",
    "    mythread = WaveformThread( v, f_sampling, \"Dev2/ao0\")\n",
    "    mythread.start()\n",
    "    # wait t0_ seconds then stop\n",
    "    time.sleep( t0_)\n",
    "    mythread.stop()\n",
    "\n",
    "def moveY(d_0, d_,v_): \n",
    "    t0_ = abs((d_-d_0)/v_)  # Calculate time for assigned length and speed\n",
    "    t_ = numpy.arange( 0, t0_, 1.0/f_sampling )\n",
    "    v = m_*d_0 + ((m_*d_-m_*d_0)/t0_)*t_  # Output voltage of DAQmx    \n",
    "    mythread = WaveformThread( v, f_sampling, \"Dev2/ao1\")\n",
    "    mythread.start()\n",
    "    # wait t0_ seconds then stop\n",
    "    time.sleep( t0_)\n",
    "    mythread.stop()\n",
    "\n",
    "def home_x():\n",
    "    t = numpy.arange( 0, 2, 1 )\n",
    "    y = 0*t\n",
    "    mythread = WaveformThread( y, 250, \"Dev2/ao0\")\n",
    "    mythread.start()\n",
    "    time.sleep( 1 )\n",
    "    mythread.stop()\n",
    "def home_y():\n",
    "    t = numpy.arange( 0, 2, 1 )\n",
    "    y = 0*t\n",
    "    mythread = WaveformThread( y, 250, \"Dev2/ao1\")\n",
    "    mythread.start()\n",
    "    time.sleep( 1 )\n",
    "    mythread.stop()\n",
    "def jump(x,y):\n",
    "    t = numpy.arange( 0, 2, 1 )\n",
    "    vx = m_*x*t\n",
    "    mythread = WaveformThread( vx, 250, \"Dev2/ao0\")\n",
    "    mythread.start()\n",
    "    time.sleep( 1 )\n",
    "    mythread.stop()\n",
    "    vy = m_*y*t\n",
    "    mythread = WaveformThread( vy, 250, \"Dev2/ao1\")\n",
    "    mythread.start()\n",
    "    time.sleep( 1 )\n",
    "    mythread.stop()"
   ]
  },
  {
   "cell_type": "code",
   "execution_count": 23,
   "metadata": {},
   "outputs": [],
   "source": [
    "moveX(0,10,5)\n",
    "#moveX(15,0,5)"
   ]
  },
  {
   "cell_type": "code",
   "execution_count": 24,
   "metadata": {},
   "outputs": [],
   "source": [
    "jump(0,0)"
   ]
  },
  {
   "cell_type": "code",
   "execution_count": 25,
   "metadata": {},
   "outputs": [],
   "source": [
    "'''Draw single line in an intact region'''\n",
    "def single_line(v_): # v_ is the scanning speed\n",
    "    home_y()\n",
    "    home_x()\n",
    "    shutter_on()\n",
    "    moveY(0,20,v_)\n",
    "    shutter_off()\n",
    "    \n",
    "'''Square'''    \n",
    "def square(v,d,x,y):\n",
    "    jump(x,y)\n",
    "    #shutter_on()\n",
    "    moveY(y,y+d,v)\n",
    "    moveX(x,x+d,v)\n",
    "    moveY(y+d,y,v)\n",
    "    moveX(x+d,x,v)\n",
    "    #shutter_off()\n",
    "'''Multiple lines'''\n",
    "def multi_line(v, d = 2.0):\n",
    "    home_y()\n",
    "    home_x()\n",
    "    shutter_on()\n",
    "    x = 0.0\n",
    "    q = int((20/d)/2)\n",
    "    for i in range(q):    \n",
    "        moveY(0.0,20.0,v)\n",
    "        #shutter_off()\n",
    "        moveX(x,x+d,20)\n",
    "        x = x + d\n",
    "        #shutter_on()\n",
    "        moveY(20.0,0.0,v) \n",
    "        moveX(x,x+d,20)\n",
    "        x = x + d\n",
    "        moveY(0.0,20.0,v)\n",
    "    shutter_off()\n",
    "    home_y()\n",
    "    home_x()"
   ]
  },
  {
   "cell_type": "code",
   "execution_count": 637,
   "metadata": {},
   "outputs": [],
   "source": [
    "home_y()\n",
    "home_x()"
   ]
  },
  {
   "cell_type": "code",
   "execution_count": 636,
   "metadata": {},
   "outputs": [],
   "source": [
    "shutter_on()"
   ]
  },
  {
   "cell_type": "code",
   "execution_count": 626,
   "metadata": {},
   "outputs": [],
   "source": [
    "shutter_off()"
   ]
  },
  {
   "cell_type": "code",
   "execution_count": 26,
   "metadata": {},
   "outputs": [],
   "source": [
    "square(v=1,d=10,x=0.0,y=0.0)"
   ]
  },
  {
   "cell_type": "code",
   "execution_count": 635,
   "metadata": {},
   "outputs": [],
   "source": [
    "jump(8,8)"
   ]
  },
  {
   "cell_type": "code",
   "execution_count": 627,
   "metadata": {},
   "outputs": [],
   "source": [
    "multi_line(2,3)"
   ]
  },
  {
   "cell_type": "code",
   "execution_count": 19,
   "metadata": {},
   "outputs": [
    {
     "ename": "ValueError",
     "evalue": "invalid number of arguments",
     "output_type": "error",
     "traceback": [
      "\u001b[1;31m---------------------------------------------------------------------------\u001b[0m",
      "\u001b[1;31mValueError\u001b[0m                                Traceback (most recent call last)",
      "\u001b[1;32m<ipython-input-19-8bed59bad7b4>\u001b[0m in \u001b[0;36m<module>\u001b[1;34m()\u001b[0m\n\u001b[1;32m----> 1\u001b[1;33m \u001b[0msquare\u001b[0m\u001b[1;33m(\u001b[0m\u001b[0mv\u001b[0m\u001b[1;33m=\u001b[0m\u001b[1;36m5\u001b[0m\u001b[1;33m,\u001b[0m\u001b[0md\u001b[0m\u001b[1;33m=\u001b[0m\u001b[1;36m20\u001b[0m\u001b[1;33m,\u001b[0m\u001b[0mx\u001b[0m\u001b[1;33m=\u001b[0m\u001b[1;36m0.0\u001b[0m\u001b[1;33m,\u001b[0m\u001b[0my\u001b[0m\u001b[1;33m=\u001b[0m\u001b[1;36m0.0\u001b[0m\u001b[1;33m)\u001b[0m\u001b[1;33m\u001b[0m\u001b[0m\n\u001b[0m\u001b[0;32m      2\u001b[0m \u001b[1;31m#square(v=5,d=15,x=2.5,y=2.5)\u001b[0m\u001b[1;33m\u001b[0m\u001b[1;33m\u001b[0m\u001b[0m\n\u001b[0;32m      3\u001b[0m \u001b[1;31m#square(v=5,d=10,x=5.0,y=5.0)\u001b[0m\u001b[1;33m\u001b[0m\u001b[1;33m\u001b[0m\u001b[0m\n\u001b[0;32m      4\u001b[0m \u001b[1;31m#square(v=5,d=5,x=7.5,y=7.5)\u001b[0m\u001b[1;33m\u001b[0m\u001b[1;33m\u001b[0m\u001b[0m\n",
      "\u001b[1;31mValueError\u001b[0m: invalid number of arguments"
     ]
    }
   ],
   "source": [
    "square(v=5,d=20,x=0.0,y=0.0)\n",
    "#square(v=5,d=15,x=2.5,y=2.5)\n",
    "#square(v=5,d=10,x=5.0,y=5.0)\n",
    "#square(v=5,d=5,x=7.5,y=7.5)"
   ]
  },
  {
   "cell_type": "code",
   "execution_count": 619,
   "metadata": {},
   "outputs": [],
   "source": [
    "shutter_on()"
   ]
  },
  {
   "cell_type": "code",
   "execution_count": 586,
   "metadata": {},
   "outputs": [],
   "source": [
    "shutter_off()"
   ]
  },
  {
   "cell_type": "code",
   "execution_count": 274,
   "metadata": {},
   "outputs": [
    {
     "name": "stdout",
     "output_type": "stream",
     "text": [
      "1.0\n",
      "0.2\n"
     ]
    }
   ],
   "source": [
    "x_max = 20e-6 # Piezo maximum travel in x direction\n",
    "v_max = 10    # Voltale at DAQmx output to drive maximum travel in x direction\n",
    "x_travel = 2e-6 # Length of straight lines we want to draw\n",
    "v_travel_x = (v_max/x_max)*x_travel # Required volatge to draw x_travel length lines\n",
    "\n",
    "speedx = 10e-6 # meter per second, speed of line drawing\n",
    "\n",
    "t0x = x_travel/speedx  # Time to draw x_travel with speed speedx\n",
    "LineSpace = 2e-6      # distance between each line\n",
    "y_travel = LineSpace\n",
    "v_travel_y = (v_max/x_max)*y_travel\n",
    "print v_travel_y\n",
    "speedy = speedx #meter per second, speed of line drawing in y direction\n",
    "t0y = y_travel/speedy # Time to draw y_travel with speed speedx\n",
    "f_sampling = 250\n",
    "print t0x"
   ]
  }
 ],
 "metadata": {
  "kernelspec": {
   "display_name": "Python 2",
   "language": "python",
   "name": "python2"
  },
  "language_info": {
   "codemirror_mode": {
    "name": "ipython",
    "version": 2
   },
   "file_extension": ".py",
   "mimetype": "text/x-python",
   "name": "python",
   "nbconvert_exporter": "python",
   "pygments_lexer": "ipython2",
   "version": "2.7.15"
  }
 },
 "nbformat": 4,
 "nbformat_minor": 2
}
